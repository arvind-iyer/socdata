{
 "cells": [
  {
   "cell_type": "code",
   "execution_count": 3,
   "metadata": {
    "collapsed": false
   },
   "outputs": [
    {
     "name": "stderr",
     "output_type": "stream",
     "text": [
      "/usr/lib/python2.7/site-packages/IPython/core/interactiveshell.py:2717: DtypeWarning: Columns (12,13) have mixed types. Specify dtype option on import or set low_memory=False.\n",
      "  interactivity=interactivity, compiler=compiler, result=result)\n"
     ]
    }
   ],
   "source": [
    "import pandas as pd\n",
    "import numpy as np\n",
    "\n",
    "housing = pd.read_csv('housing-dept.csv')\n",
    "\n"
   ]
  },
  {
   "cell_type": "code",
   "execution_count": 4,
   "metadata": {
    "collapsed": false
   },
   "outputs": [],
   "source": [
    "# dates = housing['Created Date']\n",
    "# dates.between_time('9:00-9:30 AM')"
   ]
  },
  {
   "cell_type": "code",
   "execution_count": 5,
   "metadata": {
    "collapsed": false
   },
   "outputs": [
    {
     "data": {
      "text/plain": [
       "['HEAT/HOT WATER',\n",
       " 'UNSANITARY CONDITION',\n",
       " 'PAINT/PLASTER',\n",
       " 'PLUMBING',\n",
       " 'DOOR/WINDOW',\n",
       " 'WATER LEAK',\n",
       " 'ELECTRIC',\n",
       " 'FLOORING/STAIRS',\n",
       " 'GENERAL',\n",
       " 'APPLIANCE',\n",
       " 'SAFETY',\n",
       " 'OUTSIDE BUILDING',\n",
       " 'ELEVATOR',\n",
       " 'VACANT APARTMENT',\n",
       " 'AGENCY']"
      ]
     },
     "execution_count": 5,
     "metadata": {},
     "output_type": "execute_result"
    }
   ],
   "source": [
    "complaints = housing['Complaint Type'].value_counts().keys()\n",
    "complaints = list(complaints)\n",
    "complaints\n"
   ]
  },
  {
   "cell_type": "code",
   "execution_count": 6,
   "metadata": {
    "collapsed": false
   },
   "outputs": [],
   "source": [
    "comlist = list(housing['Complaint Type'].values)\n",
    "\n",
    "geo_data = {'lat':housing['Latitude'].values, \n",
    "            'lon':housing['Longitude'].values}\n",
    "X = np.array(zip(geo_data['lat'],geo_data['lon']))\n",
    "Y = map(lambda x: complaints.index(x), comlist)\n"
   ]
  },
  {
   "cell_type": "code",
   "execution_count": 24,
   "metadata": {
    "collapsed": false
   },
   "outputs": [
    {
     "data": {
      "image/png": "[encoded data removed]",
      "text/plain": [
       "<matplotlib.figure.Figure at 0x7f645f7eeb10>"
      ]
     },
     "metadata": {},
     "output_type": "display_data"
    }
   ],
   "source": [
    "from sklearn import neighbors\n",
    "import pylab as pl \n",
    "\n",
    "knn=neighbors.KNeighborsClassifier(n_neighbors=50)\n",
    "knn.fit(X, Y)\n",
    "\n",
    "h = 0.01\n",
    "# x_min, x_max = X[:,0].min() - .05, X[:,0].max() + .05\n",
    "x_min = 40.47\n",
    "x_max = 40.94\n",
    "y_min = -74.28\n",
    "y_max = -73.67\n",
    "\n",
    "# y_min, y_max = X[:,1].min() - .05, X[:,1].max() + .05\n",
    "xx, yy = np.meshgrid(np.arange(x_min, x_max, h), np.arange(y_min, y_max, h))\n",
    "Z = knn.predict(np.c_[xx.ravel(), yy.ravel()])\n",
    "\n",
    "# Put the result into a color plot\n",
    "Z = Z.reshape(xx.shape)\n",
    "pl.figure(1, figsize=(4, 3))\n",
    "pl.set_cmap(pl.cm.Paired)\n",
    "pl.pcolormesh(xx, yy, Z)\n",
    "\n",
    "pl.xlim(xx.min(), xx.max())\n",
    "pl.ylim(yy.min(), yy.max())\n",
    "pl.xticks(())\n",
    "pl.yticks(())\n",
    "\n",
    "pl.show()"
   ]
  },
  {
   "cell_type": "code",
   "execution_count": 26,
   "metadata": {
    "collapsed": false
   },
   "outputs": [
    {
     "name": "stdout",
     "output_type": "stream",
     "text": [
      "40.47 40.94\n",
      "-74.28 -73.67\n"
     ]
    }
   ],
   "source": []
  },
  {
   "cell_type": "code",
   "execution_count": 25,
   "metadata": {
    "collapsed": false
   },
   "outputs": [
    {
     "name": "stdout",
     "output_type": "stream",
     "text": [
      "40.9115873206\n"
     ]
    }
   ],
   "source": [
    "import geoplotlib as gp\n",
    "from geoplotlib.utils import BoundingBox\n",
    "\n",
    " # Prepare data for bounding box\n",
    "max_lat = max(geo_data['lat'])\n",
    "print max_lat\n",
    "min_lon = min(geo_data['lon'])\n",
    "    #print min_lon\n",
    "min_lat = min(geo_data['lat'])\n",
    "    #print min_lat\n",
    "max_lon = max(geo_data['lon'])\n",
    "    #print max_lon\n",
    "        \n",
    "    \n",
    "    # Create and set bounding box for map of NYC\n",
    "bbox = BoundingBox(north=max_lat, west=min_lon, south=min_lat, east=max_lon)\n",
    "gp.set_bbox(bbox)\n",
    "\n",
    "for i in range(len(Z)):\n",
    "    for j in range(len(Z[i])):\n",
    "        c = float(Z[i,j])/len(complaints)\n",
    "        c = map(lambda x: int(255*x), [c,c,c])\n",
    "        gp.dot({'lat': xx[i,j], 'lon': yy[i,j]}, color=c)\n",
    "\n",
    "gp.show()"
   ]
  },
  {
   "cell_type": "code",
   "execution_count": 47,
   "metadata": {
    "collapsed": false
   },
   "outputs": [],
   "source": [
    "# len(Z)\n",
    "# len(Z[0])\n",
    "exp = []\n",
    "for i in range(len(Z)):\n",
    "    exp.append([])\n",
    "    for j in range(len(Z[0])):\n",
    "        exp[i].append(complaints[Z[i, j]])\n",
    "\n",
    "exp = np.array(exp)"
   ]
  },
  {
   "cell_type": "code",
   "execution_count": 49,
   "metadata": {
    "collapsed": false
   },
   "outputs": [],
   "source": [
    "predicted_categories = { 'lat': [], 'lon': [], 'category': [] }\n",
    "for i in range(len(Z)):\n",
    "    for j in range(len(Z[0])):\n",
    "        predicted_categories['lat'].append(xx[i,j])\n",
    "        predicted_categories['lon'].append(yy[i,j])\n",
    "        predicted_categories['category'].append(exp[i,j])"
   ]
  },
  {
   "cell_type": "code",
   "execution_count": 50,
   "metadata": {
    "collapsed": true
   },
   "outputs": [],
   "source": [
    "import json\n",
    "with open('predicted-complaints.json', 'w') as fp:\n",
    "    json.dump(predicted_categories, fp)\n"
   ]
  }
 ],
 "metadata": {
  "kernelspec": {
   "display_name": "Python 2",
   "language": "python",
   "name": "python2"
  },
  "language_info": {
   "codemirror_mode": {
    "name": "ipython",
    "version": 2
   },
   "file_extension": ".py",
   "mimetype": "text/x-python",
   "name": "python",
   "nbconvert_exporter": "python",
   "pygments_lexer": "ipython2",
   "version": "2.7.13"
  }
 },
 "nbformat": 4,
 "nbformat_minor": 2
}
